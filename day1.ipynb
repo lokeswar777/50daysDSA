{
 "cells": [
  {
   "cell_type": "markdown",
   "metadata": {},
   "source": [
    "Day 1 Goals\n",
    "Welcome to Day 1 of the DSA Coding Challenge:\n",
    "\n",
    "Today's Goals (Arrays) :\n",
    "\n",
    "-Learn Big O Analysis to find Time and Space complexity\n",
    "\n",
    "-Array Data Structure Crash Course\n",
    "\n",
    "Question 1: Sorted Squared Array - You are given an array of Integers in which each subsequent value is not less than the previous value. Write a function that takes this array as an input and returns a new array with the squares of each number sorted in ascending order.\n",
    "\n",
    "Question 2: Monotonic Array - An array is monotonic if it is either monotone increasing or monotone decreasing. An array is monotone increasing if all its elements from left to right are non-decreasing. An array is monotone decreasing if all  its elements from left to right are non-increasing. Given an integer array return true if the given array is monotonic, or false otherwise.\n",
    "\n",
    "All the best ! \n",
    "\n"
   ]
  },
  {
   "cell_type": "code",
   "execution_count": null,
   "metadata": {},
   "outputs": [],
   "source": [
    "print(\"hai\")"
   ]
  }
 ],
 "metadata": {
  "language_info": {
   "name": "python"
  }
 },
 "nbformat": 4,
 "nbformat_minor": 2
}
