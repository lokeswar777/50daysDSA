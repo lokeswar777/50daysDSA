{
 "cells": [
  {
   "cell_type": "markdown",
   "metadata": {},
   "source": [
    "Day 1 Goals\n",
    "Welcome to Day 1 of the DSA Coding Challenge:\n",
    "\n",
    "Today's Goals (Arrays) :\n",
    "\n",
    "-Learn Big O Analysis to find Time and Space complexity\n",
    "\n",
    "-Array Data Structure Crash Course\n",
    "\n",
    "Question 1: Sorted Squared Array - You are given an array of Integers in which each subsequent value is not less than the previous value. Write a function that takes this array as an input and returns a new array with the squares of each number sorted in ascending order.\n",
    "\n",
    "Question 2: Monotonic Array - An array is monotonic if it is either monotone increasing or monotone decreasing. An array is monotone increasing if all its elements from left to right are non-decreasing. An array is monotone decreasing if all  its elements from left to right are non-increasing. Given an integer array return true if the given array is monotonic, or false otherwise.\n",
    "\n",
    "All the best ! \n",
    "\n"
   ]
  },
  {
   "cell_type": "code",
   "execution_count": null,
   "metadata": {},
   "outputs": [],
   "source": [
    "print(\"hai\")\n",
    "\n",
    "iiuuio\n",
    "ljj\n"
   ]
  },
  {
   "cell_type": "code",
   "execution_count": 2,
   "metadata": {},
   "outputs": [
    {
     "data": {
      "text/plain": [
       "'SDE_4_Month_Weekly_Tracker.xlsx'"
      ]
     },
     "execution_count": 2,
     "metadata": {},
     "output_type": "execute_result"
    }
   ],
   "source": [
    "import pandas as pd\n",
    "\n",
    "# Create a customized weekly tracker structure\n",
    "weeks = [f\"Week {i}\" for i in range(1, 17)]\n",
    "tasks = [\n",
    "    \"Programming Language Course (Java/Python/C++)\",\n",
    "    \"DSA Learning (Udemy Course)\",\n",
    "    \"Daily Practice on LeetCode/HackerRank\",\n",
    "    \"Backend Project Development (Node.js/Django)\",\n",
    "    \"System Design Course (Grokking OOD)\",\n",
    "    \"Frontend Project Development (React)\",\n",
    "    \"Cloud Basics (AWS)\",\n",
    "    \"DevOps Tools (Docker/Kubernetes)\",\n",
    "    \"Mock Interviews & System Design Practice\",\n",
    "    \"DSA Problem-Solving (Medium/Hard)\",\n",
    "]\n",
    "\n",
    "# Initialize a DataFrame for progress tracking\n",
    "tracker_data = {task: [\"\"] * 16 for task in tasks}\n",
    "tracker_data[\"Week\"] = weeks\n",
    "tracker_df = pd.DataFrame(tracker_data)\n",
    "\n",
    "# Reorder columns to have 'Week' as the first column\n",
    "tracker_df = tracker_df[[\"Week\"] + tasks]\n",
    "\n",
    "# Save the tracker to an Excel file\n",
    "file_path = 'SDE_4_Month_Weekly_Tracker.xlsx'\n",
    "tracker_df.to_excel(file_path, index=False)\n",
    "\n",
    "file_path\n"
   ]
  },
  {
   "cell_type": "code",
   "execution_count": null,
   "metadata": {},
   "outputs": [],
   "source": []
  }
 ],
 "metadata": {
  "kernelspec": {
   "display_name": "base",
   "language": "python",
   "name": "python3"
  },
  "language_info": {
   "codemirror_mode": {
    "name": "ipython",
    "version": 3
   },
   "file_extension": ".py",
   "mimetype": "text/x-python",
   "name": "python",
   "nbconvert_exporter": "python",
   "pygments_lexer": "ipython3",
   "version": "3.11.7"
  }
 },
 "nbformat": 4,
 "nbformat_minor": 2
}
